{
 "cells": [
  {
   "cell_type": "code",
   "execution_count": null,
   "metadata": {},
   "outputs": [],
   "source": [
    "import pandas as pd\n",
    "import numpy as np\n",
    "from collections import Counter"
   ]
  },
  {
   "cell_type": "code",
   "execution_count": null,
   "metadata": {},
   "outputs": [],
   "source": [
    "By_sentence_pos=pd.read_csv('By_sentence_pos.csv')"
   ]
  },
  {
   "cell_type": "code",
   "execution_count": null,
   "metadata": {},
   "outputs": [],
   "source": [
    "classif = pd.read_excel('./feature_8topic.xlsx')\n",
    "classif.columns=['service','place','clean','cp','comfort','sleep','environment','food']\n",
    "classif=classif.to_dict()\n",
    "service_list=np.array(list(classif['service'].values()))\n",
    "classif['service']=service_list[service_list!='nan']\n",
    "place_list=np.array(list(classif['place'].values()))\n",
    "classif['place']=place_list[place_list!='nan']\n",
    "clean_list=np.array(list(classif['clean'].values()))\n",
    "classif['clean']=clean_list[clean_list!='nan']\n",
    "cp_list=np.array(list(classif['cp'].values()))\n",
    "classif['cp']=cp_list[cp_list!='nan']\n",
    "comfort_list=np.array(list(classif['comfort'].values()))\n",
    "classif['comfort']=comfort_list[comfort_list!='nan']\n",
    "sleep_list=np.array(list(classif['sleep'].values()))\n",
    "classif['sleep']=sleep_list[sleep_list!='nan']\n",
    "food_list=np.array(list(classif['food'].values()))\n",
    "classif['food']=food_list[food_list!='nan']\n",
    "environment_list=np.array(list(classif['environment'].values()))\n",
    "classif['environment']=environment_list[environment_list!='nan']\n",
    "def word_in_Category(x,cat):\n",
    "    cat_list=[]\n",
    "    for word,pos in x:\n",
    "        word=word.lower().strip()\n",
    "        if word in classif[cat]:\n",
    "            cat_list.append(word)\n",
    "    if cat_list==[]:\n",
    "        cat_list=None\n",
    "    return(cat_list)\n",
    "for cat in classif.keys():\n",
    "    By_sentence_pos[f'word_in_{cat}']=By_sentence_pos['pos'].apply(lambda x:word_in_Category(x,cat))"
   ]
  },
  {
   "cell_type": "code",
   "execution_count": null,
   "metadata": {},
   "outputs": [],
   "source": [
    "from collections import defaultdict\n",
    "def find_category(classif,x):\n",
    "    cate_list=[]\n",
    "    for cate in classif.keys():\n",
    "        same=set(x.keys()).intersection(set(classif[cate]))\n",
    "        if len(same)>0:\n",
    "            cate_list.append(cate)\n",
    "    if len(cate_list)==0:\n",
    "        cate_list= 'None'\n",
    "    return(cate_list)"
   ]
  },
  {
   "cell_type": "code",
   "execution_count": null,
   "metadata": {},
   "outputs": [],
   "source": [
    "By_sentence_pos['token_ckip']=By_sentence_pos['pos'].apply(lambda x:[i[0].upper().strip() for i in x ])\n",
    "By_sentence_pos['Counter']=By_sentence_pos['token_ckip'].apply(Counter)\n",
    "By_sentence_pos['category']=By_sentence_pos['Counter'].apply(lambda x: find_category(classif,x))"
   ]
  },
  {
   "cell_type": "code",
   "execution_count": null,
   "metadata": {},
   "outputs": [],
   "source": [
    "opinion_word=pd.read_excel('./emotion_score_Frequecy_filtered.xlsx')\n",
    "word_dict={}\n",
    "for w,s in zip(opinion_word['word'],opinion_word['emotion_score']):\n",
    "    word_dict[w]=s"
   ]
  },
  {
   "cell_type": "code",
   "execution_count": null,
   "metadata": {},
   "outputs": [],
   "source": [
    "negation=pd.read_csv('./outsourced_data/negation.csv')\n",
    "negation_list=list(negation.word)\n",
    "##程度詞,可以利用DfX詞性的詞進行區分 \n",
    "degree=pd.read_excel('./degree_classif_filtered.xlsx')\n",
    "degree_dict={}\n",
    "for strong in degree['strong']:\n",
    "    degree_dict[strong]=4\n",
    "for medium in degree['medium']:\n",
    "    degree_dict[medium]=3\n",
    "for weak in degree['weak']:\n",
    "    degree_dict[weak]=2"
   ]
  },
  {
   "cell_type": "code",
   "execution_count": null,
   "metadata": {},
   "outputs": [],
   "source": [
    "pos_list=['VB','VC','VF','VH','VHC','VI','VL','VJ','VK','A']##情緒分數需要留的詞性\n",
    "def EMO_Degree(x,pos_list):\n",
    "    output_list=[]\n",
    "    for word,pos in x:\n",
    "        if word in negation_list:\n",
    "            output_list.append((word,pos,'negation'))\n",
    "        elif pos in pos_list :\n",
    "            if word_dict.get(word)!=None:\n",
    "                output_list.append((word,pos,'emo_score',word_dict.get(word)))\n",
    "            else:\n",
    "                output_list.append((word,pos,'other'))\n",
    "        elif word in degree_dict.keys():\n",
    "            output_list.append((word,pos,'degree',degree_dict.get(word)))\n",
    "        else:\n",
    "            output_list.append((word,pos,'other'))\n",
    "    return(output_list)\n",
    "By_sentence_pos['emo_pos']=By_sentence_pos['pos'].apply(lambda x:EMO_Degree(x,pos_list))"
   ]
  },
  {
   "cell_type": "code",
   "execution_count": null,
   "metadata": {},
   "outputs": [],
   "source": [
    "def emotion_score(df):\n",
    "    total_score=0\n",
    "    nega_Flag=1\n",
    "    degree_Flag=1\n",
    "    count=0\n",
    "    for emo_pos in df.emo_pos:\n",
    "        if emo_pos[2]=='emo_score':\n",
    "            total_score=total_score+(emo_pos[3])*nega_Flag*degree_Flag\n",
    "        if emo_pos[2]=='degree':\n",
    "            degree_Flag=emo_pos[3]\n",
    "        if emo_pos[2]=='negation':\n",
    "            nega_Flag=-1\n",
    "        if (emo_pos[2]=='other')&(emo_pos[1]!='DE'):##other or 的\n",
    "            count+=1\n",
    "            if count>2: ##間隔不超過兩個字\n",
    "                nega_Flag=1\n",
    "                degree_Flag=1\n",
    "                count=0\n",
    "    return(total_score)\n",
    "By_sentence_pos['emotion_score']=By_sentence_pos.apply(emotion_score,axis=1)"
   ]
  },
  {
   "cell_type": "code",
   "execution_count": null,
   "metadata": {},
   "outputs": [],
   "source": [
    "def checkPos(x,cate):\n",
    "    output=[]\n",
    "    if cate=='emo_score':\n",
    "        for word in x:\n",
    "            if word[2]==cate:\n",
    "                output.append((word[0],word[1],word[3]))\n",
    "\n",
    "    elif cate=='degree':\n",
    "        for word in x:\n",
    "            if word[2]==cate:\n",
    "                output.append((word[0],word[1],word[3]))\n",
    "    elif cate=='negation':\n",
    "        for word in x:\n",
    "            if word[2]==cate:\n",
    "                output.append(word[0])\n",
    "    if output==[]:\n",
    "        output=None\n",
    "    return(output)    \n",
    "By_sentence_pos['has_emo_Score']=By_sentence_pos['emo_pos'].apply(lambda x: checkPos(x,\"emo_score\"))\n",
    "By_sentence_pos['has_degree']=By_sentence_pos['emo_pos'].apply(lambda x: checkPos(x,\"degree\"))\n",
    "By_sentence_pos['has_negation']=By_sentence_pos['emo_pos'].apply(lambda x: checkPos(x,\"negation\"))"
   ]
  },
  {
   "cell_type": "code",
   "execution_count": null,
   "metadata": {},
   "outputs": [],
   "source": [
    "def count_Score(x,flag):\n",
    "    count=0\n",
    "    if x!=None:\n",
    "        if flag>0:\n",
    "            for w,p,s in x:\n",
    "                if s>0:\n",
    "                    count+=1\n",
    "        else:\n",
    "            for w,p,s in x:\n",
    "                if s<0:\n",
    "                    count+=1\n",
    "    return(count)\n",
    "By_sentence_pos['positive_count']=By_sentence_pos['has_emo_Score'].apply(lambda x: count_Score(x,1))\n",
    "By_sentence_pos['negative_count']=By_sentence_pos['has_emo_Score'].apply(lambda x: count_Score(x,-1))"
   ]
  },
  {
   "cell_type": "code",
   "execution_count": null,
   "metadata": {},
   "outputs": [],
   "source": [
    "def count_degree(x,flag):\n",
    "    count=0\n",
    "    if x!=None:\n",
    "        for w,p,s in x:\n",
    "            if s==flag:\n",
    "                count+=1\n",
    "    return(count)\n",
    "By_sentence_pos['weak_count']=By_sentence_pos['has_degree'].apply(lambda x:count_degree(x,2))\n",
    "By_sentence_pos['medium_count']=By_sentence_pos['has_degree'].apply(lambda x:count_degree(x,3))\n",
    "By_sentence_pos['strong_count']=By_sentence_pos['has_degree'].apply(lambda x:count_degree(x,4))"
   ]
  },
  {
   "cell_type": "code",
   "execution_count": null,
   "metadata": {
    "scrolled": true
   },
   "outputs": [],
   "source": [
    "By_sentence_pos.to_csv('result/BY_sentence_emo_score_detail.csv',index=False)"
   ]
  }
 ],
 "metadata": {
  "kernelspec": {
   "display_name": "Python 3",
   "language": "python",
   "name": "python3"
  },
  "language_info": {
   "codemirror_mode": {
    "name": "ipython",
    "version": 3
   },
   "file_extension": ".py",
   "mimetype": "text/x-python",
   "name": "python",
   "nbconvert_exporter": "python",
   "pygments_lexer": "ipython3",
   "version": "3.7.3"
  }
 },
 "nbformat": 4,
 "nbformat_minor": 4
}
